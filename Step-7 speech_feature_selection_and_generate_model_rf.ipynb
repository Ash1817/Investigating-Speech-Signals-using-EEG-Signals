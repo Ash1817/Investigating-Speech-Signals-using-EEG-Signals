{
 "cells": [
  {
   "cell_type": "code",
   "execution_count": 1,
   "metadata": {},
   "outputs": [],
   "source": [
    "# Data Processing\n",
    "import pandas as pd\n",
    "import numpy as np\n",
    "# Modelling\n",
    "from sklearn.ensemble import RandomForestClassifier\n",
    "from sklearn.metrics import accuracy_score, confusion_matrix, classification_report\n",
    "from sklearn.model_selection import train_test_split, GridSearchCV"
   ]
  },
  {
   "cell_type": "code",
   "execution_count": 2,
   "metadata": {},
   "outputs": [],
   "source": [
    "import pandas as pd\n",
    "from scipy.stats import ttest_ind\n",
    "\n",
    "def performFeatureSelect(grp1_name, grp2_name, df_group1, df_group2):\n",
    "    # Significance level (alpha)\n",
    "    alpha = 0.05\n",
    "\n",
    "    # Extract numeric column names\n",
    "    numeric_columns_No = df_group1.columns[1:]\n",
    "    numeric_columns_water = df_group2.columns[1:]\n",
    "\n",
    "    # Prepare result matrix\n",
    "    result_matrix = []\n",
    "\n",
    "    # Perform t-test for each pair of numeric columns\n",
    "    for col_group1, col_group2 in zip(numeric_columns_No, numeric_columns_water):\n",
    "        stat, p_value = ttest_ind(\n",
    "            df_group1[col_group1], df_group2[col_group2], nan_policy='omit')\n",
    "\n",
    "        # Prepare result dictionary\n",
    "        result_dict = {\n",
    "            \"Group_1\": grp1_name,\n",
    "            \"Group_2\": grp2_name,\n",
    "            f\"{grp1_name}_Group_1\": col_group1,\n",
    "            f\"{grp2_name}Column_Group_2\": col_group2,\n",
    "            \"T-Statistic\": stat,\n",
    "            \"P-Value\": p_value,\n",
    "            \"Significant Difference\": \"Yes\" if p_value < alpha else \"No\"\n",
    "        }\n",
    "\n",
    "        result_matrix.append(result_dict)\n",
    "\n",
    "    # Create DataFrame from result matrix\n",
    "    result_df = pd.DataFrame(result_matrix)\n",
    "\n",
    "    # Save DataFrame to CSV file\n",
    "    result_df.to_csv(\n",
    "        f\"./Step-6 Feature Ttest/Speech/{grp1_name}_{grp2_name}_ttest.csv\", index=False)\n"
   ]
  },
  {
   "cell_type": "code",
   "execution_count": 3,
   "metadata": {},
   "outputs": [
    {
     "name": "stdout",
     "output_type": "stream",
     "text": [
      "['Doctor' 'Move' 'No' 'Pain' 'Silent' 'Toilet' 'Water' 'Yes']\n",
      "T-test Completed\n"
     ]
    }
   ],
   "source": [
    "import pandas as pd\n",
    "\n",
    "path = \"./Step-5 Combined CSV/Speech_data.csv\"\n",
    "data = pd.read_csv(path)\n",
    "\n",
    "tests = data['Output'].unique()\n",
    "print(tests)\n",
    "\n",
    "for i in range(0, len(tests)):\n",
    "    group1 = tests[i]  # (i.e) Silent\n",
    "    for j in range(1, len(tests)):\n",
    "        if j > i:\n",
    "            group2 = tests[j]  # (i.e) Water\n",
    "\n",
    "            df1 = data.copy()\n",
    "            df1 = df1[df1['Output'].str.contains(group1)]\n",
    "            del df1[\"Output\"]\n",
    "\n",
    "            df2 = data.copy()\n",
    "            df2 = df2[df2['Output'].str.contains(group2)]\n",
    "            del df2[\"Output\"]\n",
    "            performFeatureSelect(group1, group2, df1, df2)\n",
    "print(\"T-test Completed\")"
   ]
  },
  {
   "cell_type": "code",
   "execution_count": 4,
   "metadata": {},
   "outputs": [
    {
     "name": "stdout",
     "output_type": "stream",
     "text": [
      "Doctor -> Move :  ['Beta_AF8']\n",
      "Doctor -> No :  ['Alpha_AF7', 'Gamma_TP10']\n",
      "Doctor -> Pain :  []\n",
      "Doctor -> Silent :  []\n",
      "Doctor -> Toilet :  []\n",
      "Doctor -> Water :  ['Theta_TP9', 'Theta_AF7', 'Beta_AF8', 'Gamma_AF8']\n",
      "Doctor -> Yes :  ['Theta_TP9', 'Alpha_TP9', 'Gamma_TP10']\n",
      "Move -> No :  ['Alpha_TP10', 'Beta_AF7', 'Beta_TP10', 'Gamma_AF7', 'Gamma_AF8']\n",
      "Move -> Pain :  ['Theta_TP9', 'Alpha_AF8', 'Alpha_TP10', 'Gamma_TP10']\n",
      "Move -> Silent :  ['Alpha_AF7']\n",
      "Move -> Toilet :  ['Beta_TP9', 'Beta_AF7', 'Beta_AF8', 'Gamma_TP9', 'Gamma_AF8']\n",
      "Move -> Water :  ['Beta_AF8', 'Beta_TP10', 'Gamma_AF7']\n",
      "Move -> Yes :  ['Delta_TP10', 'Theta_AF8', 'Theta_TP10', 'Alpha_TP10', 'Beta_AF7', 'Beta_TP10', 'Gamma_AF7']\n",
      "No -> Pain :  ['Alpha_AF8', 'Alpha_TP10', 'Beta_AF7', 'Gamma_TP9']\n",
      "No -> Silent :  ['Theta_AF7']\n",
      "No -> Toilet :  ['Theta_AF7', 'Alpha_AF8', 'Beta_TP10', 'Gamma_AF8', 'Gamma_TP10']\n",
      "No -> Water :  ['Theta_TP10', 'Alpha_TP10', 'Beta_TP9', 'Beta_TP10', 'Gamma_AF7']\n",
      "No -> Yes :  ['Alpha_AF8', 'Alpha_TP10', 'Beta_TP9', 'Beta_AF7', 'Beta_TP10', 'Gamma_AF7', 'Gamma_TP10']\n",
      "Pain -> Silent :  ['Theta_AF8']\n",
      "Pain -> Toilet :  ['Alpha_AF8']\n",
      "Pain -> Water :  ['Delta_AF7', 'Delta_TP10', 'Alpha_TP9']\n",
      "Pain -> Yes :  ['Alpha_AF8', 'Alpha_TP10', 'Beta_AF7']\n",
      "Silent -> Toilet :  ['Theta_AF7']\n",
      "Silent -> Water :  []\n",
      "Silent -> Yes :  ['Theta_TP10']\n",
      "Toilet -> Water :  ['Beta_AF8', 'Gamma_AF7']\n",
      "Toilet -> Yes :  ['Delta_AF7', 'Alpha_AF8']\n",
      "Water -> Yes :  ['Theta_TP9', 'Beta_TP9', 'Beta_TP10', 'Gamma_AF7', 'Gamma_TP10']\n"
     ]
    }
   ],
   "source": [
    "import os\n",
    "\n",
    "path = \"./Step-6 Feature Ttest/Speech/\"\n",
    "for folders in os.listdir(path):\n",
    "    df = pd.read_csv(os.path.join(path, folders))\n",
    "    name = folders.split('_')\n",
    "    no_rows = df[df['Significant Difference'] == 'No']\n",
    "    print(f\"{name[0]} -> {name[1]} : \",\n",
    "          no_rows[f'{name[0]}_Group_1'].to_list())"
   ]
  },
  {
   "cell_type": "code",
   "execution_count": 6,
   "metadata": {},
   "outputs": [],
   "source": [
    "import os\n",
    "import pandas as pd\n",
    "\n",
    "associations =  {}\n",
    "\n",
    "path = \"./Step-6 Feature Ttest/Speech/\"\n",
    "for folders in os.listdir(path):\n",
    "    if folders.endswith('.csv'):  # Check if the file is a CSV file\n",
    "        df = pd.read_csv(os.path.join(path, folders))\n",
    "        name = folders.split('_')\n",
    "        if name[0] not in associations:\n",
    "            associations[name[0]] = {}\n",
    "        no_rows = df[df['Significant Difference'] == 'No']\n",
    "        associations[name[0]][name[1]] = no_rows[name[0] + '_Group_1'].tolist()"
   ]
  },
  {
   "cell_type": "code",
   "execution_count": 7,
   "metadata": {},
   "outputs": [],
   "source": [
    "# Generate model based on important features on t-test data\n",
    "import pandas as pd\n",
    "from sklearn.ensemble import RandomForestClassifier\n",
    "from sklearn.metrics import accuracy_score\n",
    "from sklearn.model_selection import train_test_split\n",
    "from joblib import dump\n",
    "\n",
    "output_list = ['Move', 'Silent', 'Water', 'Yes', 'No', 'Toilet', 'Doctor', 'Pain']\n",
    "\n",
    "def generate_model(grp1, grp2):\n",
    "    df = pd.read_csv(f\"./Step-5 Combined CSV/Speech_data.csv\")\n",
    "\n",
    "    for i in output_list:\n",
    "        if i != grp1 and i != grp2:\n",
    "            df = df[~df['Output'].str.contains(i)]\n",
    "            \n",
    "    # remove features\n",
    "    for features in associations[grp1][grp2]:\n",
    "        del df[features]\n",
    "\n",
    "    # Extract features and target variable\n",
    "    X = df.drop('Output', axis=1)\n",
    "    y = df['Output']\n",
    "\n",
    "    # Split the data into training and testing sets\n",
    "    X_train, X_test, y_train, y_test = train_test_split(\n",
    "        X, y, test_size=0.2, random_state=42)\n",
    "\n",
    "    rf_classifier = RandomForestClassifier(n_estimators=100, random_state=42)\n",
    "\n",
    "    # Train the classifier\n",
    "    rf_classifier.fit(X_train, y_train)\n",
    "\n",
    "    # Make predictions on the test set\n",
    "    y_pred = rf_classifier.predict(X_test)\n",
    "\n",
    "    # Evaluate the performance\n",
    "    accuracy = accuracy_score(y_test, y_pred)\n",
    "    print(f'Accuracy for {grp1}-{grp2}: {accuracy:.4f}')\n",
    "\n",
    "    # Save the trained model to a file\n",
    "    model_filename = f\"./Step-7 Model Generation/Speech/{grp1}_{grp2}_randomforest_model.joblib\"\n",
    "    dump(rf_classifier, model_filename)\n",
    "\n",
    "    # print(f\"Model saved as {model_filename}\")"
   ]
  },
  {
   "cell_type": "code",
   "execution_count": 8,
   "metadata": {},
   "outputs": [
    {
     "name": "stdout",
     "output_type": "stream",
     "text": [
      "Accuracy for Doctor-Move: 0.9511\n",
      "Accuracy for Doctor-No: 0.9414\n",
      "Accuracy for Doctor-Pain: 0.9379\n",
      "Accuracy for Doctor-Silent: 0.9681\n",
      "Accuracy for Doctor-Toilet: 0.9393\n",
      "Accuracy for Doctor-Water: 0.9173\n",
      "Accuracy for Doctor-Yes: 0.9147\n",
      "Accuracy for Move-No: 0.8928\n",
      "Accuracy for Move-Pain: 0.9539\n",
      "Accuracy for Move-Silent: 0.9621\n",
      "Accuracy for Move-Toilet: 0.9043\n",
      "Accuracy for Move-Water: 0.9320\n",
      "Accuracy for Move-Yes: 0.9062\n",
      "Accuracy for No-Pain: 0.9370\n",
      "Accuracy for No-Silent: 0.9502\n",
      "Accuracy for No-Toilet: 0.8863\n",
      "Accuracy for No-Water: 0.9001\n",
      "Accuracy for No-Yes: 0.8293\n",
      "Accuracy for Pain-Silent: 0.9640\n",
      "Accuracy for Pain-Toilet: 0.9393\n",
      "Accuracy for Pain-Water: 0.9280\n",
      "Accuracy for Pain-Yes: 0.9291\n",
      "Accuracy for Silent-Toilet: 0.9520\n",
      "Accuracy for Silent-Water: 0.9497\n",
      "Accuracy for Silent-Yes: 0.9537\n",
      "Accuracy for Toilet-Water: 0.9213\n",
      "Accuracy for Toilet-Yes: 0.9185\n",
      "Accuracy for Water-Yes: 0.8950\n"
     ]
    }
   ],
   "source": [
    "# start generate model here based on association\n",
    "for key, value in associations.items():\n",
    "    for inkey, inval in value.items():\n",
    "        generate_model(key, inkey)"
   ]
  },
  {
   "cell_type": "code",
   "execution_count": 10,
   "metadata": {},
   "outputs": [
    {
     "name": "stdout",
     "output_type": "stream",
     "text": [
      "[('Water', 82), ('Pain', 2)]\n"
     ]
    }
   ],
   "source": [
    "from joblib import load\n",
    "import numpy as np\n",
    "import pandas as pd\n",
    "from collections import Counter\n",
    "\n",
    "model_filename = f'./Step-7 Model Generation/Speech/Pain_Water_randomforest_model.joblib'\n",
    "# Load the saved model\n",
    "loaded_model = load(model_filename)\n",
    "\n",
    "# preprocess test dataset\n",
    "new_data = pd.read_csv(\"sushant_new_water.csv\")\n",
    "# new_data = new_data.iloc[15:-15]\n",
    "new_data.reset_index(drop=True, inplace=True)\n",
    "new_data.replace([np.inf, -np.inf], np.nan, inplace=True)\n",
    "new_data.dropna(axis=0, inplace=True)\n",
    "new_data = new_data[~(new_data == 0.0).any(axis=1)]\n",
    "new_data.drop_duplicates(inplace=True)\n",
    "\n",
    "del new_data['Delta_AF7']\n",
    "del new_data['Delta_TP10']\n",
    "del new_data['Alpha_TP9']\n",
    "\n",
    "for col in new_data.select_dtypes(include=['float64']).columns:\n",
    "    new_data[col] = new_data[col].map(lambda x: f'{x:.6f}')\n",
    "\n",
    "# Make predictions using the loaded model\n",
    "predictions = loaded_model.predict(new_data)\n",
    "\n",
    "# Count occurrences of each class in predictions\n",
    "class_counts = Counter(predictions)\n",
    "# Sort the counts in descending order\n",
    "sorted_counts = class_counts.most_common()\n",
    "print(sorted_counts)"
   ]
  }
 ],
 "metadata": {
  "kernelspec": {
   "display_name": "Python 3",
   "language": "python",
   "name": "python3"
  },
  "language_info": {
   "codemirror_mode": {
    "name": "ipython",
    "version": 3
   },
   "file_extension": ".py",
   "mimetype": "text/x-python",
   "name": "python",
   "nbconvert_exporter": "python",
   "pygments_lexer": "ipython3",
   "version": "3.11.8"
  },
  "orig_nbformat": 4,
  "vscode": {
   "interpreter": {
    "hash": "168bba5da63740122ca947d46832e39ea3218d22a9f111fafd308e8bacdf6302"
   }
  }
 },
 "nbformat": 4,
 "nbformat_minor": 2
}
